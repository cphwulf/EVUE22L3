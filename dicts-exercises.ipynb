{
 "cells": [
  {
   "cell_type": "markdown",
   "metadata": {},
   "source": [
    "## Dictionaries - tema fodbold (sorry)\n",
    "### Basic"
   ]
  },
  {
   "cell_type": "markdown",
   "metadata": {},
   "source": [
    "Ex 6.1 Gem oplysninger om en fodboldspiller fra Tottenham (Se pdf i github-repositoriet)"
   ]
  },
  {
   "cell_type": "markdown",
   "metadata": {},
   "source": []
  },
  {
   "cell_type": "markdown",
   "metadata": {},
   "source": [
    "Ex 6.2 Gem oplysninger om 5 fodboldspillere. Fulde navn er nøglen, trøjenummer værdien"
   ]
  },
  {
   "cell_type": "code",
   "execution_count": 3,
   "metadata": {},
   "outputs": [],
   "source": []
  },
  {
   "cell_type": "markdown",
   "metadata": {},
   "source": [
    "Loop igennnem nøglerne og print flg: {navn} has number {nummer}"
   ]
  },
  {
   "cell_type": "code",
   "execution_count": null,
   "metadata": {},
   "outputs": [],
   "source": []
  },
  {
   "cell_type": "markdown",
   "metadata": {},
   "source": [
    "Extra: Tilføj en spiller "
   ]
  },
  {
   "cell_type": "code",
   "execution_count": 16,
   "metadata": {},
   "outputs": [],
   "source": []
  },
  {
   "cell_type": "markdown",
   "metadata": {},
   "source": [
    "Loop igennem igen og verificér at han kom med"
   ]
  },
  {
   "cell_type": "code",
   "execution_count": null,
   "metadata": {},
   "outputs": [],
   "source": []
  },
  {
   "cell_type": "markdown",
   "metadata": {},
   "source": [
    "Print nu listen ordnet efter navn men uden at den ændres"
   ]
  },
  {
   "cell_type": "code",
   "execution_count": null,
   "metadata": {},
   "outputs": [],
   "source": []
  },
  {
   "cell_type": "markdown",
   "metadata": {},
   "source": [
    "Loop nu igennem listen men print kun spilleren hvis trøjenummeret er større end 15"
   ]
  },
  {
   "cell_type": "code",
   "execution_count": null,
   "metadata": {},
   "outputs": [],
   "source": []
  },
  {
   "cell_type": "markdown",
   "metadata": {},
   "source": [
    "Loop og print kun hvis navnet indeholder et \"i\""
   ]
  },
  {
   "cell_type": "code",
   "execution_count": null,
   "metadata": {},
   "outputs": [],
   "source": []
  },
  {
   "cell_type": "markdown",
   "metadata": {},
   "source": [
    "### Nesting"
   ]
  },
  {
   "cell_type": "markdown",
   "metadata": {},
   "source": [
    "Vi skal lave en liste af random spillere. Der skal være to hold, teamA og teamB. "
   ]
  },
  {
   "cell_type": "markdown",
   "metadata": {},
   "source": [
    "opg1:Vi skal kunne lave tilfældige navne ud fra alfabetet. Det kan gøres manuelt på flg måde:"
   ]
  },
  {
   "cell_type": "code",
   "execution_count": 70,
   "metadata": {},
   "outputs": [],
   "source": [
    "from random import randint\n",
    "name=\"\"\n",
    "kons=\"abecedefaghijokulamunopeqirosatuv\"\n",
    "for i in range(9):\n",
    "    name +=kons[randint(0,len(kons)-1)]\n",
    "name=name.capitalize()"
   ]
  },
  {
   "cell_type": "markdown",
   "metadata": {},
   "source": [
    "Brug ovenstående til at lave en liste med 11 tilfældige navne"
   ]
  },
  {
   "cell_type": "code",
   "execution_count": null,
   "metadata": {},
   "outputs": [],
   "source": []
  },
  {
   "cell_type": "markdown",
   "metadata": {},
   "source": [
    "Loop nu listen igennem og lav to nye lister med hver 12 dictonaries: {\"name\":\"navn-fra-listen\", \"shirtnumber\": et-tal-mellem-1-og-35}. Tænk over at man skal undgå doubletter. "
   ]
  },
  {
   "cell_type": "code",
   "execution_count": null,
   "metadata": {},
   "outputs": [],
   "source": []
  },
  {
   "cell_type": "markdown",
   "metadata": {},
   "source": [
    "Lav nu en liste der består af 22 lister af 5 tilfældige tal mellem 0 og 90 (indikerer hvor mange minutter de har spillet)"
   ]
  },
  {
   "cell_type": "code",
   "execution_count": null,
   "metadata": {},
   "outputs": [],
   "source": []
  },
  {
   "cell_type": "markdown",
   "metadata": {},
   "source": [
    "### En liste i en dictionary\n",
    "Tilføj nu en nøgle til hver spiller i listen over spillere så f.eks spilleren 'Eaadpitme' kommer til at se sådan ud:<br>\n",
    "{'name': 'Eaadpitme', 'shirtnumber': 35, 'gamesplayed': [0, 25, 88, 0, 60]}<br>\n",
    "Hvor han før så sådan ud:<br>\n",
    "{'name': 'Eaadpitme', 'shirtnumber': 35}"
   ]
  },
  {
   "cell_type": "code",
   "execution_count": null,
   "metadata": {},
   "outputs": [],
   "source": []
  },
  {
   "cell_type": "markdown",
   "metadata": {},
   "source": [
    "### En dictionary i en dictionary\n",
    "Lav en dictionary {\"Club\":\"Tottenham\", \"Season\":\"2018/19\"} og tilføj til de første 11 spillere<br>\n",
    "og {\"Club\":\"Liverpool\", \"Season\":\"2018/19\"} for de sidste 11"
   ]
  },
  {
   "cell_type": "code",
   "execution_count": null,
   "metadata": {},
   "outputs": [],
   "source": []
  },
  {
   "cell_type": "markdown",
   "metadata": {},
   "source": [
    "Ex 6-11 Tre byer med navne som nøgler og hvor hver nøgle refererer til en dict af info: land,indbyggere,funfact"
   ]
  },
  {
   "cell_type": "code",
   "execution_count": null,
   "metadata": {},
   "outputs": [],
   "source": []
  }
 ],
 "metadata": {
  "kernelspec": {
   "display_name": "Python 3 (ipykernel)",
   "language": "python",
   "name": "python3"
  },
  "language_info": {
   "codemirror_mode": {
    "name": "ipython",
    "version": 3
   },
   "file_extension": ".py",
   "mimetype": "text/x-python",
   "name": "python",
   "nbconvert_exporter": "python",
   "pygments_lexer": "ipython3",
   "version": "3.7.6"
  }
 },
 "nbformat": 4,
 "nbformat_minor": 4
}
